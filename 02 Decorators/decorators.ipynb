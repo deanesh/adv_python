{
 "cells": [
  {
   "cell_type": "markdown",
   "id": "9a555225",
   "metadata": {},
   "source": [
    "# Decorators\n",
    "\n",
    "    Decorators modify the behaviour of any function\n",
    "        input function\n",
    "        output function -> wrapper"
   ]
  },
  {
   "cell_type": "code",
   "execution_count": 3,
   "id": "cc61adf4",
   "metadata": {},
   "outputs": [],
   "source": [
    "def welcome(func):\n",
    "    def wrapper(*args, **kwargs):\n",
    "        print(\"Welcome User\")\n",
    "        res = func(*args, **kwargs)\n",
    "        print(f\"Function result = {res}\")\n",
    "        print(\"Thank You\")\n",
    "        return res\n",
    "\n",
    "    return wrapper"
   ]
  },
  {
   "cell_type": "code",
   "execution_count": 4,
   "id": "430ac288",
   "metadata": {},
   "outputs": [
    {
     "name": "stdout",
     "output_type": "stream",
     "text": [
      "Welcome User\n",
      "Function result = 5.0\n",
      "Thank You\n"
     ]
    },
    {
     "data": {
      "text/plain": [
       "5.0"
      ]
     },
     "execution_count": 4,
     "metadata": {},
     "output_type": "execute_result"
    }
   ],
   "source": [
    "import math\n",
    "\n",
    "\n",
    "@welcome\n",
    "def hypotenuse(a: float, b: float) -> float:\n",
    "    return math.sqrt(a**2 + b**2)\n",
    "\n",
    "\n",
    "a = 3\n",
    "b = 4\n",
    "\n",
    "c = hypotenuse(a, b)\n",
    "c"
   ]
  },
  {
   "cell_type": "code",
   "execution_count": 6,
   "id": "dbbd1948",
   "metadata": {},
   "outputs": [
    {
     "name": "stdout",
     "output_type": "stream",
     "text": [
      "Welcome User\n",
      "Function result = (900.0, 10900.0)\n",
      "Thank You\n",
      "Welcome User\n",
      "Function result = (30000.0, 130000.0)\n",
      "Thank You\n"
     ]
    }
   ],
   "source": [
    "@welcome\n",
    "def simple_interest(p: float, n: float, r: float) -> tuple[float, float]:\n",
    "    i = (p * n * r) / 100\n",
    "    a = p + i\n",
    "    return i, a\n",
    "\n",
    "\n",
    "p = 10000\n",
    "n = 3\n",
    "r = 3\n",
    "\n",
    "i, a = simple_interest(p, n, r)\n",
    "\n",
    "p = 100000\n",
    "n = 6\n",
    "r = 5\n",
    "\n",
    "i, a = simple_interest(p, n, r)"
   ]
  },
  {
   "cell_type": "code",
   "execution_count": null,
   "id": "57f941ea",
   "metadata": {},
   "outputs": [],
   "source": []
  }
 ],
 "metadata": {
  "kernelspec": {
   "display_name": "Adv_Python_1130",
   "language": "python",
   "name": "python3"
  },
  "language_info": {
   "codemirror_mode": {
    "name": "ipython",
    "version": 3
   },
   "file_extension": ".py",
   "mimetype": "text/x-python",
   "name": "python",
   "nbconvert_exporter": "python",
   "pygments_lexer": "ipython3",
   "version": "3.13.6"
  }
 },
 "nbformat": 4,
 "nbformat_minor": 5
}

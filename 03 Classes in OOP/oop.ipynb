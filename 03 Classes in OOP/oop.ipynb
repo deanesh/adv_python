{
 "cells": [
  {
   "cell_type": "markdown",
   "id": "fd37ea8a",
   "metadata": {},
   "source": [
    "### Object Oriented Programming\n",
    "    1. Class is similar to blueprint\n",
    "    2. We can declare multiple objects"
   ]
  },
  {
   "cell_type": "code",
   "execution_count": 2,
   "id": "b0abe56f",
   "metadata": {},
   "outputs": [
    {
     "name": "stdout",
     "output_type": "stream",
     "text": [
      "<class 'int'>\n"
     ]
    }
   ],
   "source": [
    "age = 23\n",
    "print(type(age))"
   ]
  },
  {
   "cell_type": "code",
   "execution_count": 3,
   "id": "ef248d1e",
   "metadata": {},
   "outputs": [
    {
     "name": "stdout",
     "output_type": "stream",
     "text": [
      "<class 'list'>\n"
     ]
    }
   ],
   "source": [
    "a = [1, 2, 3]\n",
    "print(type(a))"
   ]
  },
  {
   "cell_type": "code",
   "execution_count": 4,
   "id": "fb6c0520",
   "metadata": {},
   "outputs": [
    {
     "name": "stdout",
     "output_type": "stream",
     "text": [
      "<class 'tuple'>\n"
     ]
    }
   ],
   "source": [
    " b = (1, 2, \"a\")\n",
    " print(type(b))"
   ]
  },
  {
   "cell_type": "markdown",
   "id": "97fe16a1",
   "metadata": {},
   "source": [
    "### Dictionary Class\n"
   ]
  },
  {
   "cell_type": "code",
   "execution_count": 5,
   "id": "ff102928",
   "metadata": {},
   "outputs": [
    {
     "name": "stdout",
     "output_type": "stream",
     "text": [
      "<class 'dict'>\n"
     ]
    }
   ],
   "source": [
    "c = {\"a\": 1, \"b\": 2, \"c\": 3}\n",
    "print(type(c))"
   ]
  },
  {
   "cell_type": "markdown",
   "id": "c7884d29",
   "metadata": {},
   "source": [
    "#### Dataframe class"
   ]
  },
  {
   "cell_type": "code",
   "execution_count": 6,
   "id": "bd2a2df2",
   "metadata": {},
   "outputs": [
    {
     "name": "stdout",
     "output_type": "stream",
     "text": [
      "<class 'pandas.core.frame.DataFrame'>\n"
     ]
    }
   ],
   "source": [
    "import pandas as pd\n",
    "\n",
    "s = {\n",
    "    \"roll_no\": [101, 102, 103, 104],\n",
    "    \"name\": [\"Rahul\", \"Raman\", \"Aditi\", \"Sarthak\"],\n",
    "    \"marks\": [89, 93, 67, 83],\n",
    "}\n",
    "df = pd.DataFrame(s)\n",
    "print(type(df))"
   ]
  },
  {
   "cell_type": "markdown",
   "id": "55a55320",
   "metadata": {},
   "source": [
    "#### Dataframe attributes\n",
    "   1. df.shape\n",
    "   2. df.columns\n",
    "   3. df.index\n",
    "   4. df.size\n",
    "   5. df.values\n",
    "   6. df.dtypes"
   ]
  },
  {
   "cell_type": "code",
   "execution_count": 7,
   "id": "55e3a2ff",
   "metadata": {},
   "outputs": [
    {
     "data": {
      "text/plain": [
       "(4, 3)"
      ]
     },
     "execution_count": 7,
     "metadata": {},
     "output_type": "execute_result"
    }
   ],
   "source": [
    "# Dataframe attributes\n",
    "df.shape"
   ]
  },
  {
   "cell_type": "code",
   "execution_count": 8,
   "id": "d77a4b2d",
   "metadata": {},
   "outputs": [
    {
     "data": {
      "text/plain": [
       "12"
      ]
     },
     "execution_count": 8,
     "metadata": {},
     "output_type": "execute_result"
    }
   ],
   "source": [
    "df.size"
   ]
  },
  {
   "cell_type": "code",
   "execution_count": 9,
   "id": "56d10d9b",
   "metadata": {},
   "outputs": [
    {
     "name": "stdout",
     "output_type": "stream",
     "text": [
      "<class 'pandas.core.frame.DataFrame'>\n",
      "RangeIndex: 4 entries, 0 to 3\n",
      "Data columns (total 3 columns):\n",
      " #   Column   Non-Null Count  Dtype \n",
      "---  ------   --------------  ----- \n",
      " 0   roll_no  4 non-null      int64 \n",
      " 1   name     4 non-null      object\n",
      " 2   marks    4 non-null      int64 \n",
      "dtypes: int64(2), object(1)\n",
      "memory usage: 228.0+ bytes\n"
     ]
    }
   ],
   "source": [
    "df.info()"
   ]
  },
  {
   "cell_type": "code",
   "execution_count": 10,
   "id": "72020f18",
   "metadata": {},
   "outputs": [
    {
     "data": {
      "text/plain": [
       "roll_no    102.5\n",
       "marks       83.0\n",
       "dtype: float64"
      ]
     },
     "execution_count": 10,
     "metadata": {},
     "output_type": "execute_result"
    }
   ],
   "source": [
    "df.mean(numeric_only=True)"
   ]
  },
  {
   "cell_type": "markdown",
   "id": "7e31c13c",
   "metadata": {},
   "source": [
    "#### DataFrame Methods"
   ]
  },
  {
   "cell_type": "code",
   "execution_count": 12,
   "id": "0fa0e6b9",
   "metadata": {},
   "outputs": [
    {
     "data": {
      "text/html": [
       "<div>\n",
       "<style scoped>\n",
       "    .dataframe tbody tr th:only-of-type {\n",
       "        vertical-align: middle;\n",
       "    }\n",
       "\n",
       "    .dataframe tbody tr th {\n",
       "        vertical-align: top;\n",
       "    }\n",
       "\n",
       "    .dataframe thead th {\n",
       "        text-align: right;\n",
       "    }\n",
       "</style>\n",
       "<table border=\"1\" class=\"dataframe\">\n",
       "  <thead>\n",
       "    <tr style=\"text-align: right;\">\n",
       "      <th></th>\n",
       "      <th>roll_no</th>\n",
       "      <th>name</th>\n",
       "      <th>marks</th>\n",
       "    </tr>\n",
       "  </thead>\n",
       "  <tbody>\n",
       "    <tr>\n",
       "      <th>0</th>\n",
       "      <td>101</td>\n",
       "      <td>Rahul</td>\n",
       "      <td>89</td>\n",
       "    </tr>\n",
       "    <tr>\n",
       "      <th>1</th>\n",
       "      <td>102</td>\n",
       "      <td>Raman</td>\n",
       "      <td>93</td>\n",
       "    </tr>\n",
       "    <tr>\n",
       "      <th>2</th>\n",
       "      <td>103</td>\n",
       "      <td>Aditi</td>\n",
       "      <td>67</td>\n",
       "    </tr>\n",
       "    <tr>\n",
       "      <th>3</th>\n",
       "      <td>104</td>\n",
       "      <td>Sarthak</td>\n",
       "      <td>83</td>\n",
       "    </tr>\n",
       "  </tbody>\n",
       "</table>\n",
       "</div>"
      ],
      "text/plain": [
       "   roll_no     name  marks\n",
       "0      101    Rahul     89\n",
       "1      102    Raman     93\n",
       "2      103    Aditi     67\n",
       "3      104  Sarthak     83"
      ]
     },
     "execution_count": 12,
     "metadata": {},
     "output_type": "execute_result"
    }
   ],
   "source": [
    "df.sort_values(by=\"roll_no\")"
   ]
  },
  {
   "cell_type": "code",
   "execution_count": 21,
   "id": "e7e75b34",
   "metadata": {},
   "outputs": [
    {
     "data": {
      "text/plain": [
       "name     roll_no\n",
       "Aditi    103        1\n",
       "Rahul    101        1\n",
       "Raman    102        1\n",
       "Sarthak  104        1\n",
       "Name: marks, dtype: int64"
      ]
     },
     "execution_count": 21,
     "metadata": {},
     "output_type": "execute_result"
    }
   ],
   "source": [
    "df.groupby(by=[\"name\", \"roll_no\"])[\"marks\"].size()"
   ]
  },
  {
   "cell_type": "code",
   "execution_count": 25,
   "id": "6f36952c",
   "metadata": {},
   "outputs": [
    {
     "data": {
      "text/html": [
       "<div>\n",
       "<style scoped>\n",
       "    .dataframe tbody tr th:only-of-type {\n",
       "        vertical-align: middle;\n",
       "    }\n",
       "\n",
       "    .dataframe tbody tr th {\n",
       "        vertical-align: top;\n",
       "    }\n",
       "\n",
       "    .dataframe thead th {\n",
       "        text-align: right;\n",
       "    }\n",
       "</style>\n",
       "<table border=\"1\" class=\"dataframe\">\n",
       "  <thead>\n",
       "    <tr style=\"text-align: right;\">\n",
       "      <th></th>\n",
       "      <th>roll_no</th>\n",
       "      <th>marks</th>\n",
       "    </tr>\n",
       "  </thead>\n",
       "  <tbody>\n",
       "    <tr>\n",
       "      <th>roll_no</th>\n",
       "      <td>1.000000</td>\n",
       "      <td>-0.496929</td>\n",
       "    </tr>\n",
       "    <tr>\n",
       "      <th>marks</th>\n",
       "      <td>-0.496929</td>\n",
       "      <td>1.000000</td>\n",
       "    </tr>\n",
       "  </tbody>\n",
       "</table>\n",
       "</div>"
      ],
      "text/plain": [
       "          roll_no     marks\n",
       "roll_no  1.000000 -0.496929\n",
       "marks   -0.496929  1.000000"
      ]
     },
     "execution_count": 25,
     "metadata": {},
     "output_type": "execute_result"
    }
   ],
   "source": [
    "df.corr(numeric_only=True)"
   ]
  },
  {
   "cell_type": "code",
   "execution_count": 26,
   "id": "06302447",
   "metadata": {},
   "outputs": [
    {
     "data": {
      "text/plain": [
       "<__main__.Person at 0x2296bfbcec0>"
      ]
     },
     "execution_count": 26,
     "metadata": {},
     "output_type": "execute_result"
    }
   ],
   "source": [
    "class Person:\n",
    "    def __init__(self, name: str, age: str, gender: str, occupation: str):\n",
    "        self.name = name\n",
    "        self.age = age\n",
    "        self.gender = gender\n",
    "        self.occupation = occupation\n",
    "\n",
    "    def intro(self):\n",
    "        print(f\"My name is {self.name}\")\n",
    "        print(f\"My age is {self.age}\")\n",
    "        print(f\"My gender is {self.gender}\")\n",
    "        print(f\"My occupation is {self.occupation}\")\n",
    "\n",
    "\n",
    "p = Person(name=\"DT\", age=46, gender=\"male\", occupation=\"Data Scientist\")\n",
    "p"
   ]
  },
  {
   "cell_type": "code",
   "execution_count": 27,
   "id": "f1c28895",
   "metadata": {},
   "outputs": [
    {
     "name": "stdout",
     "output_type": "stream",
     "text": [
      "My name is DT\n",
      "My age is 46\n",
      "My gender is male\n",
      "My occupation is Data Scientist\n"
     ]
    }
   ],
   "source": [
    "p.intro()"
   ]
  },
  {
   "cell_type": "code",
   "execution_count": 28,
   "id": "84885eeb",
   "metadata": {},
   "outputs": [
    {
     "data": {
      "text/plain": [
       "Name: DT, age:46, gender:Male, occupation:Data Scientist"
      ]
     },
     "execution_count": 28,
     "metadata": {},
     "output_type": "execute_result"
    }
   ],
   "source": [
    "class Person_Rep_Str:\n",
    "    def __init__(self, name: str, age: str, gender: str, occupation: str):\n",
    "        self.name = name\n",
    "        self.age = age\n",
    "        self.gender = gender\n",
    "        self.occupation = occupation\n",
    "\n",
    "    def __str__(self):\n",
    "        return f\"Name: {self.name}, age:{self.age}, gender:{self.gender}, occupation:{self.occupation}\"\n",
    "\n",
    "    def __repr__(self):\n",
    "        return f\"Name: {self.name}, age:{self.age}, gender:{self.gender}, occupation:{self.occupation}\"\n",
    "\n",
    "    def intro(self):\n",
    "        print(f\"My name is {self.name}\")\n",
    "        print(f\"My age is {self.age}\")\n",
    "        print(f\"My gender is {self.gender}\")\n",
    "        print(f\"My occupation is {self.occupation}\")\n",
    "\n",
    "\n",
    "p = Person_Rep_Str(name=\"DT\", age=46, gender=\"Male\", occupation=\"Data Scientist\")\n",
    "p"
   ]
  },
  {
   "cell_type": "code",
   "execution_count": 29,
   "id": "4b7799ad",
   "metadata": {},
   "outputs": [
    {
     "name": "stdout",
     "output_type": "stream",
     "text": [
      "My name is DT\n",
      "My age is 46\n",
      "My gender is Male\n",
      "My occupation is Data Scientist\n"
     ]
    }
   ],
   "source": [
    "p.intro()"
   ]
  },
  {
   "cell_type": "code",
   "execution_count": 30,
   "id": "a66003c5",
   "metadata": {},
   "outputs": [
    {
     "data": {
      "text/plain": [
       "<bound method Person_Rep_Str.intro of Name: DT, age:46, gender:Male, occupation:Data Scientist>"
      ]
     },
     "execution_count": 30,
     "metadata": {},
     "output_type": "execute_result"
    }
   ],
   "source": [
    "p.intro"
   ]
  },
  {
   "cell_type": "code",
   "execution_count": 31,
   "id": "698b20ab",
   "metadata": {},
   "outputs": [
    {
     "data": {
      "text/plain": [
       "<bound method Person_Rep_Str.__str__ of Name: DT, age:46, gender:Male, occupation:Data Scientist>"
      ]
     },
     "execution_count": 31,
     "metadata": {},
     "output_type": "execute_result"
    }
   ],
   "source": [
    "p.__str__"
   ]
  },
  {
   "cell_type": "code",
   "execution_count": 32,
   "id": "020d4377",
   "metadata": {},
   "outputs": [
    {
     "data": {
      "text/plain": [
       "'Name: DT, age:46, gender:Male, occupation:Data Scientist'"
      ]
     },
     "execution_count": 32,
     "metadata": {},
     "output_type": "execute_result"
    }
   ],
   "source": [
    "p.__str__()"
   ]
  },
  {
   "cell_type": "code",
   "execution_count": 34,
   "id": "6744bca6",
   "metadata": {},
   "outputs": [
    {
     "data": {
      "text/plain": [
       "'Name: DT, age:46, gender:Male, occupation:Data Scientist'"
      ]
     },
     "execution_count": 34,
     "metadata": {},
     "output_type": "execute_result"
    }
   ],
   "source": [
    "p.__repr__()"
   ]
  },
  {
   "cell_type": "code",
   "execution_count": 41,
   "id": "a3689321",
   "metadata": {},
   "outputs": [
    {
     "data": {
      "text/plain": [
       "Person_DataClass(name='DT', age=46, gender='Male', occupation='Data Scientist')"
      ]
     },
     "execution_count": 41,
     "metadata": {},
     "output_type": "execute_result"
    }
   ],
   "source": [
    "from dataclasses import dataclass\n",
    "from typing import Literal\n",
    "\n",
    "\n",
    "@dataclass\n",
    "class Person_DataClass:\n",
    "    name: str\n",
    "    age: str\n",
    "    gender: Literal[\"Male\", \"Female\"]\n",
    "    occupation: str\n",
    "\n",
    "    def intro(self):\n",
    "        print(f\"Name: {self.name}\")\n",
    "        print(f\"age: {self.age}\")\n",
    "        print(f\"gender: {self.gender}\")\n",
    "        print(f\"occupation: {self.occupation}\")\n",
    "\n",
    "\n",
    "p = Person_DataClass(name=\"DT\", age=46, gender=\"Male\", occupation=\"Data Scientist\")\n",
    "p\n",
    "# p.intro()"
   ]
  },
  {
   "cell_type": "code",
   "execution_count": null,
   "id": "e50d576e",
   "metadata": {},
   "outputs": [],
   "source": []
  }
 ],
 "metadata": {
  "kernelspec": {
   "display_name": "Adv_Python_1130",
   "language": "python",
   "name": "python3"
  },
  "language_info": {
   "codemirror_mode": {
    "name": "ipython",
    "version": 3
   },
   "file_extension": ".py",
   "mimetype": "text/x-python",
   "name": "python",
   "nbconvert_exporter": "python",
   "pygments_lexer": "ipython3",
   "version": "3.13.6"
  }
 },
 "nbformat": 4,
 "nbformat_minor": 5
}

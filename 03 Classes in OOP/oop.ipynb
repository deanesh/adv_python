{
 "cells": [
  {
   "cell_type": "markdown",
   "id": "fd37ea8a",
   "metadata": {},
   "source": [
    "### Object Oriented Programming\n",
    "    1. Class is similar to blueprint\n",
    "    2. We can declare multiple objects"
   ]
  },
  {
   "cell_type": "code",
   "execution_count": 2,
   "id": "b0abe56f",
   "metadata": {},
   "outputs": [
    {
     "name": "stdout",
     "output_type": "stream",
     "text": [
      "<class 'int'>\n"
     ]
    }
   ],
   "source": [
    "age = 23\n",
    "print(type(age))"
   ]
  },
  {
   "cell_type": "code",
   "execution_count": 232,
   "id": "ef248d1e",
   "metadata": {},
   "outputs": [
    {
     "name": "stdout",
     "output_type": "stream",
     "text": [
      "<class 'list'>\n"
     ]
    }
   ],
   "source": [
    "a = [1, 2, 3]\n",
    "print(type(a))"
   ]
  },
  {
   "cell_type": "code",
   "execution_count": null,
   "id": "fb6c0520",
   "metadata": {},
   "outputs": [
    {
     "name": "stdout",
     "output_type": "stream",
     "text": [
      "<class 'tuple'>\n"
     ]
    }
   ],
   "source": [
    "b = (1, 2, \"a\")\n",
    "print(type(b))"
   ]
  },
  {
   "cell_type": "markdown",
   "id": "97fe16a1",
   "metadata": {},
   "source": [
    "### Dictionary Class\n"
   ]
  },
  {
   "cell_type": "code",
   "execution_count": 5,
   "id": "ff102928",
   "metadata": {},
   "outputs": [
    {
     "name": "stdout",
     "output_type": "stream",
     "text": [
      "<class 'dict'>\n"
     ]
    }
   ],
   "source": [
    "c = {\"a\": 1, \"b\": 2, \"c\": 3}\n",
    "print(type(c))"
   ]
  },
  {
   "cell_type": "markdown",
   "id": "c7884d29",
   "metadata": {},
   "source": [
    "#### Dataframe class"
   ]
  },
  {
   "cell_type": "code",
   "execution_count": 6,
   "id": "bd2a2df2",
   "metadata": {},
   "outputs": [
    {
     "name": "stdout",
     "output_type": "stream",
     "text": [
      "<class 'pandas.core.frame.DataFrame'>\n"
     ]
    }
   ],
   "source": [
    "import pandas as pd\n",
    "\n",
    "s = {\n",
    "    \"roll_no\": [101, 102, 103, 104],\n",
    "    \"name\": [\"Rahul\", \"Raman\", \"Aditi\", \"Sarthak\"],\n",
    "    \"marks\": [89, 93, 67, 83],\n",
    "}\n",
    "df = pd.DataFrame(s)\n",
    "print(type(df))"
   ]
  },
  {
   "cell_type": "markdown",
   "id": "55a55320",
   "metadata": {},
   "source": [
    "#### Dataframe attributes\n",
    "   1. df.shape\n",
    "   2. df.columns\n",
    "   3. df.index\n",
    "   4. df.size\n",
    "   5. df.values\n",
    "   6. df.dtypes"
   ]
  },
  {
   "cell_type": "code",
   "execution_count": 7,
   "id": "55e3a2ff",
   "metadata": {},
   "outputs": [
    {
     "data": {
      "text/plain": [
       "(4, 3)"
      ]
     },
     "execution_count": 7,
     "metadata": {},
     "output_type": "execute_result"
    }
   ],
   "source": [
    "# Dataframe attributes\n",
    "df.shape"
   ]
  },
  {
   "cell_type": "code",
   "execution_count": 8,
   "id": "d77a4b2d",
   "metadata": {},
   "outputs": [
    {
     "data": {
      "text/plain": [
       "12"
      ]
     },
     "execution_count": 8,
     "metadata": {},
     "output_type": "execute_result"
    }
   ],
   "source": [
    "df.size"
   ]
  },
  {
   "cell_type": "code",
   "execution_count": 9,
   "id": "56d10d9b",
   "metadata": {},
   "outputs": [
    {
     "name": "stdout",
     "output_type": "stream",
     "text": [
      "<class 'pandas.core.frame.DataFrame'>\n",
      "RangeIndex: 4 entries, 0 to 3\n",
      "Data columns (total 3 columns):\n",
      " #   Column   Non-Null Count  Dtype \n",
      "---  ------   --------------  ----- \n",
      " 0   roll_no  4 non-null      int64 \n",
      " 1   name     4 non-null      object\n",
      " 2   marks    4 non-null      int64 \n",
      "dtypes: int64(2), object(1)\n",
      "memory usage: 228.0+ bytes\n"
     ]
    }
   ],
   "source": [
    "df.info()"
   ]
  },
  {
   "cell_type": "code",
   "execution_count": 10,
   "id": "72020f18",
   "metadata": {},
   "outputs": [
    {
     "data": {
      "text/plain": [
       "roll_no    102.5\n",
       "marks       83.0\n",
       "dtype: float64"
      ]
     },
     "execution_count": 10,
     "metadata": {},
     "output_type": "execute_result"
    }
   ],
   "source": [
    "df.mean(numeric_only=True)"
   ]
  },
  {
   "cell_type": "markdown",
   "id": "7e31c13c",
   "metadata": {},
   "source": [
    "#### DataFrame Methods"
   ]
  },
  {
   "cell_type": "code",
   "execution_count": 12,
   "id": "0fa0e6b9",
   "metadata": {},
   "outputs": [
    {
     "data": {
      "text/html": [
       "<div>\n",
       "<style scoped>\n",
       "    .dataframe tbody tr th:only-of-type {\n",
       "        vertical-align: middle;\n",
       "    }\n",
       "\n",
       "    .dataframe tbody tr th {\n",
       "        vertical-align: top;\n",
       "    }\n",
       "\n",
       "    .dataframe thead th {\n",
       "        text-align: right;\n",
       "    }\n",
       "</style>\n",
       "<table border=\"1\" class=\"dataframe\">\n",
       "  <thead>\n",
       "    <tr style=\"text-align: right;\">\n",
       "      <th></th>\n",
       "      <th>roll_no</th>\n",
       "      <th>name</th>\n",
       "      <th>marks</th>\n",
       "    </tr>\n",
       "  </thead>\n",
       "  <tbody>\n",
       "    <tr>\n",
       "      <th>0</th>\n",
       "      <td>101</td>\n",
       "      <td>Rahul</td>\n",
       "      <td>89</td>\n",
       "    </tr>\n",
       "    <tr>\n",
       "      <th>1</th>\n",
       "      <td>102</td>\n",
       "      <td>Raman</td>\n",
       "      <td>93</td>\n",
       "    </tr>\n",
       "    <tr>\n",
       "      <th>2</th>\n",
       "      <td>103</td>\n",
       "      <td>Aditi</td>\n",
       "      <td>67</td>\n",
       "    </tr>\n",
       "    <tr>\n",
       "      <th>3</th>\n",
       "      <td>104</td>\n",
       "      <td>Sarthak</td>\n",
       "      <td>83</td>\n",
       "    </tr>\n",
       "  </tbody>\n",
       "</table>\n",
       "</div>"
      ],
      "text/plain": [
       "   roll_no     name  marks\n",
       "0      101    Rahul     89\n",
       "1      102    Raman     93\n",
       "2      103    Aditi     67\n",
       "3      104  Sarthak     83"
      ]
     },
     "execution_count": 12,
     "metadata": {},
     "output_type": "execute_result"
    }
   ],
   "source": [
    "df.sort_values(by=\"roll_no\")"
   ]
  },
  {
   "cell_type": "code",
   "execution_count": 21,
   "id": "e7e75b34",
   "metadata": {},
   "outputs": [
    {
     "data": {
      "text/plain": [
       "name     roll_no\n",
       "Aditi    103        1\n",
       "Rahul    101        1\n",
       "Raman    102        1\n",
       "Sarthak  104        1\n",
       "Name: marks, dtype: int64"
      ]
     },
     "execution_count": 21,
     "metadata": {},
     "output_type": "execute_result"
    }
   ],
   "source": [
    "df.groupby(by=[\"name\", \"roll_no\"])[\"marks\"].size()"
   ]
  },
  {
   "cell_type": "code",
   "execution_count": 25,
   "id": "6f36952c",
   "metadata": {},
   "outputs": [
    {
     "data": {
      "text/html": [
       "<div>\n",
       "<style scoped>\n",
       "    .dataframe tbody tr th:only-of-type {\n",
       "        vertical-align: middle;\n",
       "    }\n",
       "\n",
       "    .dataframe tbody tr th {\n",
       "        vertical-align: top;\n",
       "    }\n",
       "\n",
       "    .dataframe thead th {\n",
       "        text-align: right;\n",
       "    }\n",
       "</style>\n",
       "<table border=\"1\" class=\"dataframe\">\n",
       "  <thead>\n",
       "    <tr style=\"text-align: right;\">\n",
       "      <th></th>\n",
       "      <th>roll_no</th>\n",
       "      <th>marks</th>\n",
       "    </tr>\n",
       "  </thead>\n",
       "  <tbody>\n",
       "    <tr>\n",
       "      <th>roll_no</th>\n",
       "      <td>1.000000</td>\n",
       "      <td>-0.496929</td>\n",
       "    </tr>\n",
       "    <tr>\n",
       "      <th>marks</th>\n",
       "      <td>-0.496929</td>\n",
       "      <td>1.000000</td>\n",
       "    </tr>\n",
       "  </tbody>\n",
       "</table>\n",
       "</div>"
      ],
      "text/plain": [
       "          roll_no     marks\n",
       "roll_no  1.000000 -0.496929\n",
       "marks   -0.496929  1.000000"
      ]
     },
     "execution_count": 25,
     "metadata": {},
     "output_type": "execute_result"
    }
   ],
   "source": [
    "df.corr(numeric_only=True)"
   ]
  },
  {
   "cell_type": "code",
   "execution_count": 135,
   "id": "06302447",
   "metadata": {},
   "outputs": [
    {
     "name": "stdout",
     "output_type": "stream",
     "text": [
      "My name is DT\n",
      "My age is 46\n",
      "My gender is male\n",
      "My occupation is Data Scientist\n"
     ]
    }
   ],
   "source": [
    "class Person:\n",
    "    def __init__(self, name: str, age: str, gender: str, occupation: str):\n",
    "        self.name = name\n",
    "        self.age = age\n",
    "        self.gender = gender\n",
    "        self.occupation = occupation\n",
    "\n",
    "    def intro(self):\n",
    "        print(f\"My name is {self.name}\")\n",
    "        print(f\"My age is {self.age}\")\n",
    "        print(f\"My gender is {self.gender}\")\n",
    "        print(f\"My occupation is {self.occupation}\")\n",
    "\n",
    "\n",
    "p = Person(name=\"DT\", age=46, gender=\"male\", occupation=\"Data Scientist\")\n",
    "p.intro()"
   ]
  },
  {
   "cell_type": "code",
   "execution_count": 146,
   "id": "84885eeb",
   "metadata": {},
   "outputs": [
    {
     "data": {
      "text/plain": [
       "Name: DT, age:46, gender:Male, occupation:Data Scientist"
      ]
     },
     "execution_count": 146,
     "metadata": {},
     "output_type": "execute_result"
    }
   ],
   "source": [
    "class Person_Rep_Str:\n",
    "    def __init__(self, name: str, age: str, gender: str, occupation: str):\n",
    "        self.name = name\n",
    "        self.age = age\n",
    "        self.gender = gender\n",
    "        self.occupation = occupation\n",
    "\n",
    "    def __str__(self):\n",
    "        return f\"Name: {self.name}, age:{self.age}, gender:{self.gender}, occupation:{self.occupation}\"\n",
    "\n",
    "    def __repr__(self):\n",
    "        return f\"Name: {self.name}, age:{self.age}, gender:{self.gender}, occupation:{self.occupation}\"\n",
    "\n",
    "    def intro(self):\n",
    "        print(f\"My name is {self.name}\")\n",
    "        print(f\"My age is {self.age}\")\n",
    "        print(f\"My gender is {self.gender}\")\n",
    "        print(f\"My occupation is {self.occupation}\")\n",
    "\n",
    "\n",
    "p = Person_Rep_Str(name=\"DT\", age=46, gender=\"Male\", occupation=\"Data Scientist\")\n",
    "p"
   ]
  },
  {
   "cell_type": "code",
   "execution_count": 141,
   "id": "4b7799ad",
   "metadata": {},
   "outputs": [
    {
     "name": "stdout",
     "output_type": "stream",
     "text": [
      "My name is DT\n",
      "My age is 46\n",
      "My gender is male\n",
      "My occupation is Data Scientist\n"
     ]
    }
   ],
   "source": [
    "p.intro()"
   ]
  },
  {
   "cell_type": "code",
   "execution_count": 150,
   "id": "020d4377",
   "metadata": {},
   "outputs": [
    {
     "data": {
      "text/plain": [
       "('Name: DT, age:46, gender:Male, occupation:Data Scientist',\n",
       " 'Name: DT, age:46, gender:Male, occupation:Data Scientist')"
      ]
     },
     "execution_count": 150,
     "metadata": {},
     "output_type": "execute_result"
    }
   ],
   "source": [
    "p.__repr__(), p.__str__()"
   ]
  },
  {
   "cell_type": "code",
   "execution_count": 151,
   "id": "a3689321",
   "metadata": {},
   "outputs": [
    {
     "data": {
      "text/plain": [
       "Person_DataClass(name='DT', age=46, gender='Male', occupation='Data Scientist')"
      ]
     },
     "execution_count": 151,
     "metadata": {},
     "output_type": "execute_result"
    }
   ],
   "source": [
    "from dataclasses import dataclass\n",
    "from typing import Literal\n",
    "\n",
    "\n",
    "@dataclass\n",
    "class Person_DataClass:\n",
    "    name: str\n",
    "    age: str\n",
    "    gender: Literal[\"Male\", \"Female\"]\n",
    "    occupation: str\n",
    "\n",
    "    def intro(self):\n",
    "        print(f\"Name: {self.name}\")\n",
    "        print(f\"age: {self.age}\")\n",
    "        print(f\"gender: {self.gender}\")\n",
    "        print(f\"occupation: {self.occupation}\")\n",
    "\n",
    "\n",
    "p = Person_DataClass(name=\"DT\", age=46, gender=\"Male\", occupation=\"Data Scientist\")\n",
    "p"
   ]
  },
  {
   "cell_type": "markdown",
   "id": "1b5122b3",
   "metadata": {},
   "source": [
    "### Create a class for banking transactions"
   ]
  },
  {
   "cell_type": "code",
   "execution_count": 224,
   "id": "d2247b47",
   "metadata": {},
   "outputs": [],
   "source": [
    "import uuid\n",
    "import time\n",
    "from datetime import datetime\n",
    "from dataclasses import field\n",
    "from dataclasses import dataclass\n",
    "from typing import Literal\n",
    "\n",
    "uuid.uuid4()\n",
    "\n",
    "\n",
    "@dataclass\n",
    "class Transaction:\n",
    "    amount: float\n",
    "    timestamp: datetime = field(default_factory=datetime.now)\n",
    "    description: str = \"\"\n",
    "\n",
    "\n",
    "@dataclass\n",
    "class BankAccount:\n",
    "    owner: str\n",
    "    balance: float = field(default=0.0, repr=False)\n",
    "    account_id: str = field(default_factory=lambda: str(uuid.uuid4()), repr=False)\n",
    "    transactions: list[Transaction] = field(default_factory=list, repr=False)\n",
    "\n",
    "    def deposit(self, amount: float, description: str = \"deposit\"):\n",
    "        self.amount = amount\n",
    "        if self.amount <= 0:\n",
    "            raise ValueError(\"Amount cannot be less than or equal to '0'\")\n",
    "        self.balance = self.balance + amount\n",
    "        self.transactions.append(Transaction(amount=amount, description=description))\n",
    "\n",
    "    def withdraw(self, amount: float, description: str = \"withdraw\"):\n",
    "        self.amount = amount\n",
    "        if self.amount <= 0:\n",
    "            raise ValueError(\"Amount cannot be less than or equal to '0'\")\n",
    "        if self.balance < self.amount:\n",
    "            raise ValueError(\n",
    "                f\"Insufficent balance for withdrawing amount: {self.amount} \"\n",
    "            )\n",
    "        self.balance = self.balance - amount\n",
    "        self.transactions.append(Transaction(amount=amount, description=description))\n",
    "\n",
    "    def transfer(\n",
    "        self,\n",
    "        amount: float,\n",
    "        target_account: \"BankAccount\",\n",
    "        description: str = \"transfer\",\n",
    "    ):\n",
    "        self.withdraw(amount=amount, description=description)\n",
    "        target_account.deposit(amount=amount, description=\"deposit\")\n",
    "\n",
    "    def get_statement(self):\n",
    "        lines = [\n",
    "            f\"Bank Statement for owner: {self.owner} and account_id: {self.account_id}\"\n",
    "        ]\n",
    "        for transaction in self.transactions:\n",
    "            lines.append(\n",
    "                f\"{transaction.timestamp} | {transaction.description} | {transaction.amount:.2f}\"\n",
    "            )\n",
    "        return \"\\n\".join(lines)"
   ]
  },
  {
   "cell_type": "code",
   "execution_count": 229,
   "id": "ddb64471",
   "metadata": {},
   "outputs": [],
   "source": [
    "ac1 = BankAccount(owner=\"DT\")\n",
    "ac2 = BankAccount(\"HB\")"
   ]
  },
  {
   "cell_type": "code",
   "execution_count": 230,
   "id": "44858bae",
   "metadata": {},
   "outputs": [
    {
     "name": "stdout",
     "output_type": "stream",
     "text": [
      "Bank Statement for owner: DT and account_id: 36f20926-8369-45c8-acfe-14209093ee5e\n",
      "2025-08-27 15:31:11.774894 | deposit | 100.00\n",
      "2025-08-27 15:31:11.774900 | deposit | 10.00\n",
      "Bank Statement for owner: HB and account_id: 79c630b1-458d-4be0-bccd-0a38697417ba\n",
      "2025-08-27 15:31:11.775485 | deposit | 400.00\n",
      "2025-08-27 15:31:11.775490 | deposit | 10.00\n",
      "2025-08-27 15:31:11.775495 | withdraw | 50.00\n",
      "2025-08-27 15:31:11.775498 | transfer | 100.00\n"
     ]
    }
   ],
   "source": [
    "# AC1: DT Account Transactions\n",
    "ac1.deposit(100), ac1.deposit(10)\n",
    "print(ac1.get_statement())\n",
    "\n",
    "# AC2 : HB Account Transactions\n",
    "ac2.deposit(400), ac2.deposit(10), ac2.withdraw(50), ac2.transfer(100, ac1)\n",
    "print(ac2.get_statement())"
   ]
  },
  {
   "cell_type": "code",
   "execution_count": 231,
   "id": "0a58d491",
   "metadata": {},
   "outputs": [
    {
     "data": {
      "text/plain": [
       "(313.0, 371.0)"
      ]
     },
     "execution_count": 231,
     "metadata": {},
     "output_type": "execute_result"
    }
   ],
   "source": [
    "ac1.deposit(103), ac2.deposit(111)\n",
    "ac1.balance, ac2.balance"
   ]
  },
  {
   "cell_type": "markdown",
   "id": "527df2be",
   "metadata": {},
   "source": [
    "### Assignment - Create a triangle class with 3 sides as an attribute\n",
    "Create following methods\n",
    "1. forms a triangle or not\n",
    "2. perimeter\n",
    "3. area using herons formula\n",
    "using dataclass python"
   ]
  },
  {
   "cell_type": "markdown",
   "id": "0f3db6c3",
   "metadata": {},
   "source": []
  },
  {
   "cell_type": "code",
   "execution_count": 38,
   "id": "92b7928f",
   "metadata": {},
   "outputs": [
    {
     "name": "stdout",
     "output_type": "stream",
     "text": [
      "---------- Start ----------\n",
      "Entered Values: (1, 2, 3)\n",
      "Form a Triangle = [False]\n",
      "Values does not form a triangle\n",
      "---------- End ----------\n",
      "\n",
      "---------- Start ----------\n",
      "Entered Values: (5, 5, 3)\n",
      "Form a Triangle = True\n",
      "Permiter of Triangle = 15\n",
      "Area of Triangle = 6.50\n",
      "---------- End ----------\n",
      "\n"
     ]
    }
   ],
   "source": [
    "from dataclasses import dataclass\n",
    "from typing import Literal\n",
    "import math\n",
    "\n",
    "\n",
    "@dataclass\n",
    "class Triangle:\n",
    "    a: float\n",
    "    b: float\n",
    "    c: float\n",
    "\n",
    "    def is_triangle(self) -> bool:\n",
    "\n",
    "        is_triangle = False\n",
    "        if (\n",
    "            self.a + self.b > self.c\n",
    "            and self.b + self.c > self.a\n",
    "            and self.a + self.c > self.b\n",
    "        ):\n",
    "            is_triangle = True\n",
    "        else:\n",
    "            is_triangle = False\n",
    "\n",
    "        return is_triangle\n",
    "\n",
    "    def perimeter(self) -> float:\n",
    "        perimeter = 0\n",
    "\n",
    "        if not self.is_triangle():\n",
    "            raise ValueError(\"Values does not form a triangle\")\n",
    "\n",
    "        perimeter = self.a + self.b + self.c\n",
    "\n",
    "        return perimeter\n",
    "\n",
    "    def area(self):\n",
    "        area = 0\n",
    "        if not self.is_triangle():\n",
    "            raise ValueError(\"Values does not form a triangle\")\n",
    "\n",
    "        semi_perimeter = self.perimeter() / 2\n",
    "\n",
    "        area = (\n",
    "            semi_perimeter\n",
    "            * (semi_perimeter - self.a)\n",
    "            * (semi_perimeter - self.b)\n",
    "            * (semi_perimeter - self.c)\n",
    "        )\n",
    "\n",
    "        return math.sqrt(area)\n",
    "\n",
    "\n",
    "try:\n",
    "    a = 1\n",
    "    b = 2\n",
    "    c = 3\n",
    "    print(f\"---------- Start ----------\")\n",
    "    print(f\"Entered Values: {a,b,c}\")\n",
    "    triangle = Triangle(a=a, b=b, c=c)\n",
    "\n",
    "    is_triangle = triangle.is_triangle()\n",
    "    print(f\"Form a Triangle = [{is_triangle}]\")\n",
    "\n",
    "    perimeter = triangle.perimeter()\n",
    "    print(f\"Permiter of Triangle = [{perimeter}]\")\n",
    "\n",
    "    area = triangle.area()\n",
    "    print(f\"Area of Triangle = {area:2f}\")\n",
    "\n",
    "except Exception as ex:\n",
    "    print(ex)\n",
    "finally:\n",
    "    print(f\"---------- End ----------\\n\")\n",
    "\n",
    "\n",
    "try:\n",
    "    a = 5\n",
    "    b = 5\n",
    "    c = 3\n",
    "    print(f\"---------- Start ----------\")\n",
    "    print(f\"Entered Values: {a,b,c}\")\n",
    "    triangle = Triangle(a=7, b=5, c=3)\n",
    "\n",
    "    is_triangle = triangle.is_triangle()\n",
    "    print(f\"Form a Triangle = {is_triangle}\")\n",
    "\n",
    "    perimeter = triangle.perimeter()\n",
    "    print(f\"Permiter of Triangle = {perimeter}\")\n",
    "\n",
    "    area = triangle.area()\n",
    "    print(f\"Area of Triangle = {area:.2f}\")\n",
    "except Exception as ex:\n",
    "    print(ex)\n",
    "finally:\n",
    "    print(f\"---------- End ----------\\n\")"
   ]
  },
  {
   "cell_type": "code",
   "execution_count": null,
   "id": "305f334b",
   "metadata": {},
   "outputs": [],
   "source": []
  }
 ],
 "metadata": {
  "kernelspec": {
   "display_name": ".venv",
   "language": "python",
   "name": "python3"
  },
  "language_info": {
   "codemirror_mode": {
    "name": "ipython",
    "version": 3
   },
   "file_extension": ".py",
   "mimetype": "text/x-python",
   "name": "python",
   "nbconvert_exporter": "python",
   "pygments_lexer": "ipython3",
   "version": "3.13.6"
  }
 },
 "nbformat": 4,
 "nbformat_minor": 5
}
